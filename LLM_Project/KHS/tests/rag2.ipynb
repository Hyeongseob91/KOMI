{
 "cells": [
  {
   "cell_type": "markdown",
   "metadata": {},
   "source": [
    "# RAG Process"
   ]
  },
  {
   "cell_type": "markdown",
   "metadata": {},
   "source": [
    "### 1. 필요한 라이브러리 설치 및 임포트"
   ]
  },
  {
   "cell_type": "code",
   "execution_count": 27,
   "metadata": {},
   "outputs": [],
   "source": [
    "# 필요한 라이브러리 import\n",
    "from langchain.document_loaders import PyPDFLoader                 # PDF 문서를 불러오기 위한 로더\n",
    "from langchain.text_splitter import RecursiveCharacterTextSplitter # 문서를 일정 단위로 쪼개는 도구\n",
    "from langchain.embeddings import HuggingFaceBgeEmbeddings          # OpenAI 임베딩 모델 사용\n",
    "from langchain.vectorstores import Chroma                          # 벡터 DB인 Chroma 사용\n",
    "from langchain_community.llms import Ollama                        # OpenAI GPT 모델 설정\n",
    "from langchain.chains import ConversationChain\n",
    "from langchain.memory import ConversationBufferMemory"
   ]
  },
  {
   "cell_type": "markdown",
   "metadata": {},
   "source": [
    "### 2. PDF 파일 로딩 및 텍스트 추출"
   ]
  },
  {
   "cell_type": "code",
   "execution_count": 2,
   "metadata": {},
   "outputs": [],
   "source": [
    "# 텍스트 파일을 문서로 로드\n",
    "loader1 = PyPDFLoader(\"../data/squat1.pdf\")  # 만약 파일의 이미지까지 불러오고 싶다면 extract_images=True 추가\n",
    "doc1 = loader1.load()\n",
    "\n",
    "loader2 = PyPDFLoader(\"../data/squat2.pdf\")\n",
    "doc2 = loader2.load()"
   ]
  },
  {
   "cell_type": "markdown",
   "metadata": {},
   "source": [
    "### 3. 문서 조각화 (Chunking)"
   ]
  },
  {
   "cell_type": "code",
   "execution_count": 3,
   "metadata": {},
   "outputs": [],
   "source": [
    "# 문서 분할 클래스 설정\n",
    "text_splitter = RecursiveCharacterTextSplitter(\n",
    "    chunk_size=500,\n",
    "    chunk_overlap=100,\n",
    "    separators=[\"\\n\\n\", \"\\n\", \".\", \" \", \"\"]\n",
    "    )\n",
    "split_docs = text_splitter.split_documents(doc1 + doc2)"
   ]
  },
  {
   "cell_type": "markdown",
   "metadata": {},
   "source": [
    "### 4. 임베딩 모델 설정 및 ChromaDB에 임베딩 저장"
   ]
  },
  {
   "cell_type": "code",
   "execution_count": 4,
   "metadata": {},
   "outputs": [
    {
     "name": "stderr",
     "output_type": "stream",
     "text": [
      "C:\\Users\\user\\AppData\\Local\\Temp\\ipykernel_6712\\396006598.py:2: LangChainDeprecationWarning: The class `HuggingFaceBgeEmbeddings` was deprecated in LangChain 0.2.2 and will be removed in 1.0. An updated version of the class exists in the :class:`~langchain-huggingface package and should be used instead. To use it run `pip install -U :class:`~langchain-huggingface` and import as `from :class:`~langchain_huggingface import HuggingFaceEmbeddings``.\n",
      "  embedding_model = HuggingFaceBgeEmbeddings()\n",
      "C:\\Users\\user\\AppData\\Local\\Temp\\ipykernel_6712\\396006598.py:2: LangChainDeprecationWarning: Default values for HuggingFaceBgeEmbeddings.model_name were deprecated in LangChain 0.2.5 and will be removed in 0.4.0. Explicitly pass a model_name to the HuggingFaceBgeEmbeddings constructor instead.\n",
      "  embedding_model = HuggingFaceBgeEmbeddings()\n",
      "C:\\Users\\user\\AppData\\Local\\Temp\\ipykernel_6712\\396006598.py:11: LangChainDeprecationWarning: Since Chroma 0.4.x the manual persistence method is no longer supported as docs are automatically persisted.\n",
      "  vectorstore.persist()\n"
     ]
    }
   ],
   "source": [
    "# OpenAI Embeddings()\n",
    "embedding_model = HuggingFaceBgeEmbeddings()\n",
    "\n",
    "# Chroma 벡터 저장소에 문서 임베딩 저장\n",
    "vectorstore = Chroma.from_documents(\n",
    "    documents=split_docs,\n",
    "    embedding=embedding_model,\n",
    "    persist_directory=\"../chroma_db/pdf_docs\")\n",
    "\n",
    "# 로컬에 저장\n",
    "vectorstore.persist()"
   ]
  },
  {
   "cell_type": "markdown",
   "metadata": {},
   "source": [
    "### 5. retirever 검색기 설정 및 테스트"
   ]
  },
  {
   "cell_type": "code",
   "execution_count": null,
   "metadata": {},
   "outputs": [
    {
     "name": "stderr",
     "output_type": "stream",
     "text": [
      "C:\\Users\\user\\AppData\\Local\\Temp\\ipykernel_6712\\1071343833.py:2: LangChainDeprecationWarning: The class `Chroma` was deprecated in LangChain 0.2.9 and will be removed in 1.0. An updated version of the class exists in the :class:`~langchain-chroma package and should be used instead. To use it run `pip install -U :class:`~langchain-chroma` and import as `from :class:`~langchain_chroma import Chroma``.\n",
      "  vectorstore = Chroma(\n"
     ]
    }
   ],
   "source": [
    "# 저장된 Chroma 벡터 DB 로드\n",
    "vectorstore = Chroma(\n",
    "    persist_directory=\"../chroma_db/pdf_docs\",\n",
    "    embedding_function=embedding_model\n",
    "    )\n",
    "\n",
    "# Retriever 생성\n",
    "retriever = vectorstore.as_retriever(\n",
    "    search_type=\"similarity\",           # 유사도 분석 기반\n",
    "    search_kwargs={\"k\": 5}              # 3개의 문장만 갖고오기\n",
    "    )"
   ]
  },
  {
   "cell_type": "markdown",
   "metadata": {},
   "source": [
    "### 6. LLM 설정"
   ]
  },
  {
   "cell_type": "code",
   "execution_count": 25,
   "metadata": {},
   "outputs": [],
   "source": [
    "# Local LLM Model (Ollama: llama3)\n",
    "llm = Ollama(model=\"llama3\", temperature=0)          # temperature: 창의성 레벨 (0~1)"
   ]
  },
  {
   "cell_type": "markdown",
   "metadata": {},
   "source": [
    "### 7. RAG Chain 설정"
   ]
  },
  {
   "cell_type": "code",
   "execution_count": 31,
   "metadata": {},
   "outputs": [],
   "source": [
    "memory = ConversationBufferMemory()\n",
    "\n",
    "rag_chain = ConversationChain(\n",
    "    llm=llm,\n",
    "    memory=memory,\n",
    "    # chain_type=\"stuff\",                 # stuff: 여러 문서를 단순히 이어붙여서 LLM에 전달하는 방식\n",
    "    # chain_type=\"map_reduce\",            # map_reduce: 각 문서를 개별적으로 요약하고, 마지막에 LLM이 종합해서 답변 생성하는 방식\n",
    "    # retriever=retriever,\n",
    "    verbose=True      # 참조 문서를 결과에 포함\n",
    ")"
   ]
  },
  {
   "cell_type": "markdown",
   "metadata": {},
   "source": [
    "### 8. Query Test"
   ]
  },
  {
   "cell_type": "code",
   "execution_count": 36,
   "metadata": {},
   "outputs": [
    {
     "name": "stdout",
     "output_type": "stream",
     "text": [
      "\n",
      "\n",
      "\u001b[1m> Entering new ConversationChain chain...\u001b[0m\n",
      "Prompt after formatting:\n",
      "\u001b[32;1m\u001b[1;3mThe following is a friendly conversation between a human and an AI. The AI is talkative and provides lots of specific details from its context. If the AI does not know the answer to a question, it truthfully says it does not know.\n",
      "\n",
      "Current conversation:\n",
      "\n",
      "Human: 스쿼트할 때 척추 중립을 유지해야 하는 이유를 알려줘\n",
      "AI:\u001b[0m\n",
      "\n",
      "\u001b[1m> Finished chain.\u001b[0m\n",
      "📘 Llama3 응답:\n",
      "A great question! 😊\n",
      "\n",
      "When performing squats, maintaining a neutral spine position is crucial for several reasons. Firstly, when the spine is in a neutral position, it allows for optimal activation of the gluteal muscles, which are responsible for hip extension and external rotation during the squat movement. This ensures proper engagement of the glutes, reducing the risk of overusing or underusing them.\n",
      "\n",
      "Secondly, a neutral spine helps to maintain proper pelvic alignment, which is essential for maintaining good posture and preventing excessive strain on the lower back. When the pelvis is in a neutral position, it allows for even distribution of weight-bearing forces across the entire pelvis, rather than concentrating them at the front or back, which can lead to discomfort or injury.\n",
      "\n",
      "Thirdly, maintaining a neutral spine during squats helps to reduce the risk of lumbar flexion, which can put excessive stress on the intervertebral discs and facet joints in the lower back. This is particularly important for individuals with pre-existing spinal conditions, such as spondylolisthesis or spinal stenosis.\n",
      "\n",
      "Lastly, a neutral spine position during squats helps to promote proper activation of the core muscles, including the transverse abdominis and obliques, which are essential for maintaining good posture and stability throughout the movement.\n",
      "\n",
      "So, there you have it! Maintaining a neutral spine during squats is crucial for optimal gluteal activation, pelvic alignment, spinal health, and overall movement efficiency. 💪\n"
     ]
    }
   ],
   "source": [
    "query = \"스쿼트할 때 척추 중립을 유지해야 하는 이유를 알려줘\"\n",
    "\n",
    "# RAG 체인에 질문 전달\n",
    "response = rag_chain.predict(input=query)\n",
    "\n",
    "# 답변 출력\n",
    "print(\"📘 Llama3 응답:\")\n",
    "# print(response['result'])\n",
    "print(response)\n",
    "\n",
    "# 참조 문서 출력 (선택)\n",
    "# print(\"\\n📄 참조 문서:\")\n",
    "# print(response['source_documents'][1].page_content)"
   ]
  }
 ],
 "metadata": {
  "kernelspec": {
   "display_name": "komi",
   "language": "python",
   "name": "python3"
  },
  "language_info": {
   "codemirror_mode": {
    "name": "ipython",
    "version": 3
   },
   "file_extension": ".py",
   "mimetype": "text/x-python",
   "name": "python",
   "nbconvert_exporter": "python",
   "pygments_lexer": "ipython3",
   "version": "3.11.11"
  }
 },
 "nbformat": 4,
 "nbformat_minor": 2
}
