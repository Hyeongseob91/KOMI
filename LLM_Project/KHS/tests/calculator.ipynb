{
 "cells": [
  {
   "cell_type": "markdown",
   "metadata": {},
   "source": [
    "# Calculator"
   ]
  },
  {
   "cell_type": "code",
   "execution_count": 9,
   "metadata": {},
   "outputs": [],
   "source": [
    "import os\n",
    "import json\n",
    "import numpy as np\n",
    "\n",
    "\n",
    "def extract_keypoints(directory: str):\n",
    "    \"\"\"\n",
    "        JSON 파일에서 keypoints 데이터를 추출하고 벡터화하는 함수\n",
    "\n",
    "        1. param directory: JSON 파일이 저장된 디렉토리 경로\n",
    "        2. return: 벡터화된 keypoints 데이터 리스트\n",
    "    \"\"\"\n",
    "\n",
    "    # 저장소 만들기\n",
    "    keypoint_list = []\n",
    "    files = os.listdir(directory)\n",
    "\n",
    "    # 디렉토리 안에 JSON 데이터만 불러오기\n",
    "    for file in files:\n",
    "        if file.endswith('.json'):\n",
    "            file_path = os.path.join(directory, file)\n",
    "\n",
    "            # JSON 데이터가 파일 형식이라면 data에 load하여 저장하기 \n",
    "            if os.path.isfile(file_path):\n",
    "                with open(file_path, \"r\", encoding='utf-8') as f:\n",
    "                    data = json.load(f)\n",
    "                    try:\n",
    "                        keypoints = data['keypoints']\n",
    "                        for kp in keypoints:\n",
    "                            keypoint_list.append([kp['part'], kp['x'], kp['y']])\n",
    "                    except KeyError:\n",
    "                        print(f'데이터를 찾을 수 없습니다')\n",
    "\n",
    "    return keypoint_list"
   ]
  },
  {
   "cell_type": "code",
   "execution_count": 12,
   "metadata": {},
   "outputs": [
    {
     "name": "stdout",
     "output_type": "stream",
     "text": [
      "[['nose', 644, 148], ['left_eye', 652, 140], ['right_eye', 635, 141], ['left_ear', 664, 151], ['right_ear', 622, 151], ['left_shoulder', 679, 203], ['right_shoulder', 607, 202], ['left_elbow', 701, 227], ['right_elbow', 586, 220], ['left_wrist', 672, 220], ['right_wrist', 621, 219], ['left_hip', 671, 334], ['right_hip', 620, 335], ['left_knee', 686, 440], ['right_knee', 606, 442], ['left_ankle', 698, 545], ['right_ankle', 594, 547]]\n"
     ]
    }
   ],
   "source": [
    "directory = '../../LJH/data/front_json'\n",
    "json_data = extract_keypoints(directory)\n",
    "print(json_data[:17])"
   ]
  },
  {
   "cell_type": "code",
   "execution_count": null,
   "metadata": {},
   "outputs": [],
   "source": []
  }
 ],
 "metadata": {
  "kernelspec": {
   "display_name": "komi",
   "language": "python",
   "name": "python3"
  },
  "language_info": {
   "codemirror_mode": {
    "name": "ipython",
    "version": 3
   },
   "file_extension": ".py",
   "mimetype": "text/x-python",
   "name": "python",
   "nbconvert_exporter": "python",
   "pygments_lexer": "ipython3",
   "version": "3.11.11"
  }
 },
 "nbformat": 4,
 "nbformat_minor": 2
}
