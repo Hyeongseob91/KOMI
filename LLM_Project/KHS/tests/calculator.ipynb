{
 "cells": [
  {
   "cell_type": "markdown",
   "metadata": {},
   "source": [
    "# Calculator"
   ]
  },
  {
   "cell_type": "markdown",
   "metadata": {},
   "source": [
    "## 1. 기능 구현"
   ]
  },
  {
   "cell_type": "code",
   "execution_count": 28,
   "metadata": {},
   "outputs": [],
   "source": [
    "import os\n",
    "import json\n",
    "import numpy as np\n",
    "\n",
    "\n",
    "# 함수.1\n",
    "def extract_flattened_keypoints_from_json(file_path: str):\n",
    "    \"\"\"\n",
    "    JSON 파일에서 Keypoints 값을 추출하고 평탄화하여 벡터로 변환하는 함수\n",
    "    \"\"\"\n",
    "    with open(file_path, 'r', encoding='utf-8') as f:\n",
    "        data = json.load(f)\n",
    "\n",
    "    keypoints = data.get(\"keypoints\", [])\n",
    "    flattened = [flattenend_data if flattenend_data is not None else 0 for kp in keypoints for flattenend_data in (kp['x'], kp['y'])]\n",
    "\n",
    "    return flattened\n",
    "\n",
    "# 함수.2\n",
    "def convert_vectors_by_flattened(directory_path: str):\n",
    "    \"\"\"\n",
    "    directory내 모든 JSON 파일에서 좌표 벡터를 수집하여 리스트로 반환하는 함수\n",
    "    \"\"\"\n",
    "    # 저장소 만들기\n",
    "    vectors = []\n",
    "    files = os.listdir(directory_path)\n",
    "\n",
    "    # 디렉토리 안에 JSON 데이터만 불러오기\n",
    "    for file in files:\n",
    "        if file.endswith('.json'):\n",
    "            file_path = os.path.join(directory_path, file)\n",
    "\n",
    "            # 함수.1을 이용해 모든 파일의 좌표값을 flattened\n",
    "            coords = extract_flattened_keypoints_from_json(file_path)\n",
    "\n",
    "            if len(coords) == 34:\n",
    "                vectors.append(np.array(coords))\n",
    "\n",
    "    return vectors\n",
    "\n",
    "# 함수.3\n",
    "def cosine_similarity(vec1, vec2):\n",
    "    \"\"\"두 개의 벡터(vec1, vec2)의 코사인 유사도를 계산\"\"\"\n",
    "    vec1 = np.array(vec1)\n",
    "    vec2 = np.array(vec2)\n",
    "    \n",
    "    # 벡터의 크기(Norm) 계산\n",
    "    norm1 = np.linalg.norm(vec1)\n",
    "    norm2 = np.linalg.norm(vec2)\n",
    "    \n",
    "    # 두 벡터의 내적(dot product) 계산 후 코사인 유사도 반환\n",
    "    similarity = np.dot(vec1, vec2) / (norm1 * norm2)\n",
    "    \n",
    "    return similarity\n",
    "\n",
    "# 함수. 4\n",
    "def compare_cosine_similarity(result1, result2):\n",
    "    \"\"\"\n",
    "    result1과 result2의 코사인 유사도를 비교하는 함수\n",
    "    result1과 result2는 각각 다차원 리스트(2D 배열) 형태일 수 있음.\n",
    "    \"\"\"\n",
    "    similarities = []\n",
    "    \n",
    "    # 각 벡터를 1:1로 비교 (result1과 result2의 길이가 같다고 가정)\n",
    "    for vec1, vec2 in zip(result1, result2):\n",
    "        sim = cosine_similarity(vec1, vec2)\n",
    "        similarities.append(sim)\n",
    "\n",
    "    return similarities"
   ]
  },
  {
   "cell_type": "markdown",
   "metadata": {},
   "source": [
    "Test"
   ]
  },
  {
   "cell_type": "code",
   "execution_count": 36,
   "metadata": {},
   "outputs": [],
   "source": [
    "answer_directory_path1 = '../../LJH/data/front_json'\n",
    "vec1 = convert_vectors_by_flattened(answer_directory_path1)\n",
    "# print(vec1)"
   ]
  },
  {
   "cell_type": "code",
   "execution_count": 35,
   "metadata": {},
   "outputs": [],
   "source": [
    "realtime_directory_path = '../../LJH/data/side_json'\n",
    "vec2 = convert_vectors_by_flattened(realtime_directory_path)\n",
    "# print(vec2)"
   ]
  },
  {
   "cell_type": "code",
   "execution_count": 40,
   "metadata": {},
   "outputs": [
    {
     "name": "stdout",
     "output_type": "stream",
     "text": [
      "[643 143 651 136 634 136 663 147 621 148 678 199 605 199 701 222 585 217\n",
      " 668 216 621 213 670 331 618 332 685 438 604 440 697 544 592 546]\n",
      "[646 148 653 140   0   0 674 148   0   0 667 195 685 197 608 218   0   0\n",
      " 528 220   0   0 662 335 674 334 663 440 665 439 662 546 664 539]\n"
     ]
    }
   ],
   "source": [
    "print(vec1[0])\n",
    "print(vec2[0])"
   ]
  },
  {
   "cell_type": "markdown",
   "metadata": {},
   "source": [
    "## 2. 벡터 유사도 비교"
   ]
  },
  {
   "cell_type": "code",
   "execution_count": 39,
   "metadata": {},
   "outputs": [
    {
     "name": "stdout",
     "output_type": "stream",
     "text": [
      "[0.896222333929139, 0.8963179051125744, 0.8959439891103309, 0.8963021991536727, 0.8964083120402385, 0.8961160656189991, 0.8959659720277089, 0.8957329166490843, 0.8953525446951409, 0.8954242207277585, 0.8952659282859463, 0.8950368193144558, 0.896356091556819, 0.8942874666345804, 0.8939169602835049, 0.894073844652035, 0.8936030375530971, 0.8932455239303001, 0.8930479038530725, 0.8927328549474051, 0.8930662598385946, 0.8926728797763944, 0.8925359341182454, 0.8953455235139842, 0.8893919585209921, 0.8917349657132988, 0.8919712464064745, 0.8918662638802289, 0.8920144992434821, 0.8919416903464545, 0.8917079491539268, 0.89175624353405, 0.891505352234042, 0.8914097187572833, 0.8922095246442758, 0.8850219150516534, 0.8910251246516983, 0.8911590217623161, 0.8910172257711257, 0.890882882286728, 0.8906264896052275, 0.8905371783618861, 0.890617125734384, 0.8903802143803531, 0.890501861879497, 0.8877644288658462, 0.8818326034061887, 0.8904227625735818, 0.8903754407146031, 0.8906124964497478, 0.890785292643789, 0.8909968256685167, 0.8911594200566315, 0.8911646791535834, 0.8912603420018583, 0.8913858355469206, 0.8861620038473018, 0.8870076756743897, 0.8910879654677012, 0.8912359509875757, 0.8911223926220082, 0.8912750211584382, 0.8910993381706747, 0.891078622085559, 0.8911778726220653, 0.890983159465655, 0.8913451106588657, 0.887463747570782, 0.8936911701325078, 0.8915424076917612, 0.8914117628937218, 0.8910097825258249, 0.8917555179711203, 0.8922733080700431, 0.8927128240498314, 0.89342528947026, 0.8928759580140605, 0.8934970682942064, 0.8936788752049699, 0.8962662059412707, 0.8941929113566212, 0.8945579186385263, 0.8943147406145311, 0.8948146448154718, 0.8954140715571735, 0.8957460447199417, 0.8957227090787409]\n"
     ]
    }
   ],
   "source": [
    "# 코사인 유사도 분석\n",
    "cosines_result = compare_cosine_similarity(vec1, vec2)\n",
    "print(cosines_result)"
   ]
  }
 ],
 "metadata": {
  "kernelspec": {
   "display_name": "komi",
   "language": "python",
   "name": "python3"
  },
  "language_info": {
   "codemirror_mode": {
    "name": "ipython",
    "version": 3
   },
   "file_extension": ".py",
   "mimetype": "text/x-python",
   "name": "python",
   "nbconvert_exporter": "python",
   "pygments_lexer": "ipython3",
   "version": "3.11.11"
  }
 },
 "nbformat": 4,
 "nbformat_minor": 2
}
