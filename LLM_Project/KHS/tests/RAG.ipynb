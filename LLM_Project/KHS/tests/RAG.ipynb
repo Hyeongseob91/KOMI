{
 "cells": [
  {
   "cell_type": "markdown",
   "metadata": {},
   "source": [
    "# RAG | ChromaDB\n",
    "- pip install langchain_community\n",
    "- pip install langchain_openai\n",
    "- pip install langchain_chroma\n",
    "- pip install pymupdf\n",
    "\n",
    "### 모듈 불러오기"
   ]
  },
  {
   "cell_type": "code",
   "execution_count": 3,
   "metadata": {},
   "outputs": [],
   "source": [
    "from langchain_community.document_loaders import PyPDFium2Loader\n",
    "from langchain_text_splitters import RecursiveCharacterTextSplitter\n",
    "from sentence_transformers import SentenceTransformer\n",
    "from langchain_chroma import Chroma\n",
    "from langchain_core.prompts import PromptTemplate\n",
    "from langchain_core.runnables import RunnablePassthrough\n",
    "import chromadb\n",
    "from chromadb.config import Settings"
   ]
  },
  {
   "cell_type": "markdown",
   "metadata": {},
   "source": [
    "- 현재 위치 확인"
   ]
  },
  {
   "cell_type": "code",
   "execution_count": 4,
   "metadata": {},
   "outputs": [
    {
     "data": {
      "text/plain": [
       "'c:\\\\Wanted\\\\projectfiles\\\\KOMI_PJT\\\\LLM_Project\\\\KHS\\\\tests'"
      ]
     },
     "execution_count": 4,
     "metadata": {},
     "output_type": "execute_result"
    }
   ],
   "source": [
    "import os\n",
    "os.getcwd()"
   ]
  },
  {
   "cell_type": "markdown",
   "metadata": {},
   "source": [
    "### 문서 불러오기\n",
    "- pip install unstructured\n",
    "- pip install pdfminer"
   ]
  },
  {
   "cell_type": "code",
   "execution_count": 5,
   "metadata": {},
   "outputs": [
    {
     "name": "stderr",
     "output_type": "stream",
     "text": [
      "c:\\Users\\user\\miniconda3\\envs\\komi\\Lib\\site-packages\\pypdfium2\\_helpers\\textpage.py:80: UserWarning: get_text_range() call with default params will be implicitly redirected to get_text_bounded()\n",
      "  warnings.warn(\"get_text_range() call with default params will be implicitly redirected to get_text_bounded()\")\n"
     ]
    },
    {
     "data": {
      "text/plain": [
       "31"
      ]
     },
     "execution_count": 5,
     "metadata": {},
     "output_type": "execute_result"
    }
   ],
   "source": [
    "# PDF 파일 2개 로드\n",
    "loader1 = PyPDFium2Loader(\"../data/squat1.pdf\")\n",
    "docs1 = loader1.load()\n",
    "\n",
    "loader2 = PyPDFium2Loader(\"../data/squat2.pdf\")\n",
    "docs2 = loader2.load()\n",
    "\n",
    "# 하나로 합치기\n",
    "all_docs = docs1 + docs2\n",
    "len(all_docs)"
   ]
  },
  {
   "cell_type": "markdown",
   "metadata": {},
   "source": [
    "### 문서 분할"
   ]
  },
  {
   "cell_type": "code",
   "execution_count": 6,
   "metadata": {},
   "outputs": [
    {
     "data": {
      "text/plain": [
       "100"
      ]
     },
     "execution_count": 6,
     "metadata": {},
     "output_type": "execute_result"
    }
   ],
   "source": [
    "text_splitter = RecursiveCharacterTextSplitter(chunk_size=500, chunk_overlap=50)\n",
    "split_docs = text_splitter.split_documents(all_docs)\n",
    "len(split_docs)"
   ]
  },
  {
   "cell_type": "markdown",
   "metadata": {},
   "source": [
    "### 문서 임베딩\n",
    "- HuggingFace Transformers 기반\n",
    "- SentenceTransformer(\"all-MiniLM-L6-v2\")\n",
    "- 이름: all-MiniLM-L6-v2\n",
    "- 구조: MiniLM (Transformer 기반 소형 모델)\n",
    "- 버전: v2 (Hugging Face에 공개된 두 번째 개정 모델)\n",
    "- 임베딩 차원 수: 384차원\n",
    "- 입력 길이: 최대 256 토큰"
   ]
  },
  {
   "cell_type": "code",
   "execution_count": 7,
   "metadata": {},
   "outputs": [],
   "source": [
    "embedding_model = SentenceTransformer(\"all-MiniLM-L6-v2\")\n",
    "\n",
    "texts = [doc.page_content for doc in split_docs]\n",
    "embeddings = embedding_model.encode(texts).tolist()\n",
    "metadatas = [doc.metadata for doc in split_docs]\n",
    "ids = [f\"doc_{i}\" for i in range(len(split_docs))]"
   ]
  },
  {
   "cell_type": "markdown",
   "metadata": {},
   "source": [
    "### ChromaDB 저장"
   ]
  },
  {
   "cell_type": "code",
   "execution_count": 8,
   "metadata": {},
   "outputs": [
    {
     "name": "stdout",
     "output_type": "stream",
     "text": [
      "✅ PDF 2개의 데이터가 ChromaDB에 저장되었습니다.\n"
     ]
    }
   ],
   "source": [
    "client = chromadb.PersistentClient(path=\"../chromaDB\")\n",
    "collection = client.get_or_create_collection(\"squat_documents\")\n",
    "\n",
    "collection.add(\n",
    "    documents=texts,\n",
    "    embeddings=embeddings,\n",
    "    metadatas=metadatas,\n",
    "    ids=ids\n",
    ")\n",
    "\n",
    "print(\"✅ PDF 2개의 데이터가 ChromaDB에 저장되었습니다.\")"
   ]
  }
 ],
 "metadata": {
  "kernelspec": {
   "display_name": "komi",
   "language": "python",
   "name": "python3"
  },
  "language_info": {
   "codemirror_mode": {
    "name": "ipython",
    "version": 3
   },
   "file_extension": ".py",
   "mimetype": "text/x-python",
   "name": "python",
   "nbconvert_exporter": "python",
   "pygments_lexer": "ipython3",
   "version": "3.11.11"
  }
 },
 "nbformat": 4,
 "nbformat_minor": 2
}
