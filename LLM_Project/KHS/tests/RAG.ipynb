{
 "cells": [
  {
   "cell_type": "markdown",
   "metadata": {},
   "source": [
    "# RAG | ChromaDB\n",
    "- pip install langchain_community\n",
    "- pip install langchain_openai\n",
    "- pip install langchain_chroma\n",
    "- pip install pymupdf\n",
    "\n",
    "### 모듈 불러오기"
   ]
  },
  {
   "cell_type": "code",
   "execution_count": 1,
   "metadata": {},
   "outputs": [],
   "source": [
    "from langchain_community.document_loaders import PyPDFium2Loader\n",
    "from langchain_text_splitters import RecursiveCharacterTextSplitter\n",
    "from sentence_transformers import SentenceTransformer\n",
    "from langchain_chroma import Chroma\n",
    "from langchain_core.prompts import PromptTemplate\n",
    "from langchain_core.runnables import RunnablePassthrough\n",
    "from langchain.vectorstores import Chroma\n",
    "from langchain.embeddings import HuggingFaceBgeEmbeddings\n",
    "import chromadb\n",
    "from chromadb.config import Settings"
   ]
  },
  {
   "cell_type": "markdown",
   "metadata": {},
   "source": [
    "- 현재 위치 확인"
   ]
  },
  {
   "cell_type": "code",
   "execution_count": 2,
   "metadata": {},
   "outputs": [
    {
     "data": {
      "text/plain": [
       "'c:\\\\Wanted\\\\projectfiles\\\\KOMI_PJT\\\\LLM_Project\\\\KHS\\\\tests'"
      ]
     },
     "execution_count": 2,
     "metadata": {},
     "output_type": "execute_result"
    }
   ],
   "source": [
    "import os\n",
    "os.getcwd()"
   ]
  },
  {
   "cell_type": "markdown",
   "metadata": {},
   "source": [
    "### 문서 불러오기\n",
    "- pip install unstructured\n",
    "- pip install pdfminer"
   ]
  },
  {
   "cell_type": "code",
   "execution_count": 4,
   "metadata": {},
   "outputs": [
    {
     "data": {
      "text/plain": [
       "31"
      ]
     },
     "execution_count": 4,
     "metadata": {},
     "output_type": "execute_result"
    }
   ],
   "source": [
    "# PDF 파일 2개 로드\n",
    "loader1 = PyPDFium2Loader(\"../data/squat1.pdf\")\n",
    "docs1 = loader1.load()\n",
    "\n",
    "loader2 = PyPDFium2Loader(\"../data/squat2.pdf\")\n",
    "docs2 = loader2.load()\n",
    "\n",
    "# 하나로 합치기\n",
    "all_docs = docs1 + docs2\n",
    "len(all_docs)"
   ]
  },
  {
   "cell_type": "markdown",
   "metadata": {},
   "source": [
    "### 문서 분할"
   ]
  },
  {
   "cell_type": "code",
   "execution_count": 5,
   "metadata": {},
   "outputs": [
    {
     "data": {
      "text/plain": [
       "100"
      ]
     },
     "execution_count": 5,
     "metadata": {},
     "output_type": "execute_result"
    }
   ],
   "source": [
    "text_splitter = RecursiveCharacterTextSplitter(chunk_size=500, chunk_overlap=50)\n",
    "split_docs = text_splitter.split_documents(all_docs)\n",
    "len(split_docs)"
   ]
  },
  {
   "cell_type": "markdown",
   "metadata": {},
   "source": [
    "### 문서 임베딩\n",
    "- HuggingFace Transformers 기반\n",
    "- SentenceTransformer(\"all-MiniLM-L6-v2\")\n",
    "- 이름: all-MiniLM-L6-v2\n",
    "- 구조: MiniLM (Transformer 기반 소형 모델)\n",
    "- 버전: v2 (Hugging Face에 공개된 두 번째 개정 모델)\n",
    "- 임베딩 차원 수: 384차원\n",
    "- 입력 길이: 최대 256 토큰"
   ]
  },
  {
   "cell_type": "code",
   "execution_count": 6,
   "metadata": {},
   "outputs": [],
   "source": [
    "embedding_model = SentenceTransformer(\"all-MiniLM-L6-v2\")\n",
    "\n",
    "texts = [doc.page_content for doc in split_docs]\n",
    "embeddings = embedding_model.encode(texts).tolist()\n",
    "metadatas = [doc.metadata for doc in split_docs]\n",
    "ids = [f\"doc_{i}\" for i in range(len(split_docs))]"
   ]
  },
  {
   "cell_type": "markdown",
   "metadata": {},
   "source": [
    "### ChromaDB 저장"
   ]
  },
  {
   "cell_type": "code",
   "execution_count": 7,
   "metadata": {},
   "outputs": [
    {
     "name": "stderr",
     "output_type": "stream",
     "text": [
      "Insert of existing embedding ID: doc_0\n",
      "Insert of existing embedding ID: doc_1\n",
      "Insert of existing embedding ID: doc_2\n",
      "Insert of existing embedding ID: doc_3\n",
      "Insert of existing embedding ID: doc_4\n",
      "Insert of existing embedding ID: doc_5\n",
      "Insert of existing embedding ID: doc_6\n",
      "Insert of existing embedding ID: doc_7\n",
      "Insert of existing embedding ID: doc_8\n",
      "Insert of existing embedding ID: doc_9\n",
      "Insert of existing embedding ID: doc_10\n",
      "Insert of existing embedding ID: doc_11\n",
      "Insert of existing embedding ID: doc_12\n",
      "Insert of existing embedding ID: doc_13\n",
      "Insert of existing embedding ID: doc_14\n",
      "Insert of existing embedding ID: doc_15\n",
      "Insert of existing embedding ID: doc_16\n",
      "Insert of existing embedding ID: doc_17\n",
      "Insert of existing embedding ID: doc_18\n",
      "Insert of existing embedding ID: doc_19\n",
      "Insert of existing embedding ID: doc_20\n",
      "Insert of existing embedding ID: doc_21\n",
      "Insert of existing embedding ID: doc_22\n",
      "Insert of existing embedding ID: doc_23\n",
      "Insert of existing embedding ID: doc_24\n",
      "Insert of existing embedding ID: doc_25\n",
      "Insert of existing embedding ID: doc_26\n",
      "Insert of existing embedding ID: doc_27\n",
      "Insert of existing embedding ID: doc_28\n",
      "Insert of existing embedding ID: doc_29\n",
      "Insert of existing embedding ID: doc_30\n",
      "Insert of existing embedding ID: doc_31\n",
      "Insert of existing embedding ID: doc_32\n",
      "Insert of existing embedding ID: doc_33\n",
      "Insert of existing embedding ID: doc_34\n",
      "Insert of existing embedding ID: doc_35\n",
      "Insert of existing embedding ID: doc_36\n",
      "Insert of existing embedding ID: doc_37\n",
      "Insert of existing embedding ID: doc_38\n",
      "Insert of existing embedding ID: doc_39\n",
      "Insert of existing embedding ID: doc_40\n",
      "Insert of existing embedding ID: doc_41\n",
      "Insert of existing embedding ID: doc_42\n",
      "Insert of existing embedding ID: doc_43\n",
      "Insert of existing embedding ID: doc_44\n",
      "Insert of existing embedding ID: doc_45\n",
      "Insert of existing embedding ID: doc_46\n",
      "Insert of existing embedding ID: doc_47\n",
      "Insert of existing embedding ID: doc_48\n",
      "Insert of existing embedding ID: doc_49\n",
      "Insert of existing embedding ID: doc_50\n",
      "Insert of existing embedding ID: doc_51\n",
      "Insert of existing embedding ID: doc_52\n",
      "Insert of existing embedding ID: doc_53\n",
      "Insert of existing embedding ID: doc_54\n",
      "Insert of existing embedding ID: doc_55\n",
      "Insert of existing embedding ID: doc_56\n",
      "Insert of existing embedding ID: doc_57\n",
      "Insert of existing embedding ID: doc_58\n",
      "Insert of existing embedding ID: doc_59\n",
      "Insert of existing embedding ID: doc_60\n",
      "Insert of existing embedding ID: doc_61\n",
      "Insert of existing embedding ID: doc_62\n",
      "Insert of existing embedding ID: doc_63\n",
      "Insert of existing embedding ID: doc_64\n",
      "Insert of existing embedding ID: doc_65\n",
      "Insert of existing embedding ID: doc_66\n",
      "Insert of existing embedding ID: doc_67\n",
      "Insert of existing embedding ID: doc_68\n",
      "Insert of existing embedding ID: doc_69\n",
      "Insert of existing embedding ID: doc_70\n",
      "Insert of existing embedding ID: doc_71\n",
      "Insert of existing embedding ID: doc_72\n",
      "Insert of existing embedding ID: doc_73\n",
      "Insert of existing embedding ID: doc_74\n",
      "Insert of existing embedding ID: doc_75\n",
      "Insert of existing embedding ID: doc_76\n",
      "Insert of existing embedding ID: doc_77\n",
      "Insert of existing embedding ID: doc_78\n",
      "Insert of existing embedding ID: doc_79\n",
      "Insert of existing embedding ID: doc_80\n",
      "Insert of existing embedding ID: doc_81\n",
      "Insert of existing embedding ID: doc_82\n",
      "Insert of existing embedding ID: doc_83\n",
      "Insert of existing embedding ID: doc_84\n",
      "Insert of existing embedding ID: doc_85\n",
      "Insert of existing embedding ID: doc_86\n",
      "Insert of existing embedding ID: doc_87\n",
      "Insert of existing embedding ID: doc_88\n",
      "Insert of existing embedding ID: doc_89\n",
      "Insert of existing embedding ID: doc_90\n",
      "Insert of existing embedding ID: doc_91\n",
      "Insert of existing embedding ID: doc_92\n",
      "Insert of existing embedding ID: doc_93\n",
      "Insert of existing embedding ID: doc_94\n",
      "Insert of existing embedding ID: doc_95\n",
      "Insert of existing embedding ID: doc_96\n",
      "Insert of existing embedding ID: doc_97\n",
      "Insert of existing embedding ID: doc_98\n",
      "Insert of existing embedding ID: doc_99\n",
      "Add of existing embedding ID: doc_0\n",
      "Add of existing embedding ID: doc_1\n",
      "Add of existing embedding ID: doc_2\n",
      "Add of existing embedding ID: doc_3\n",
      "Add of existing embedding ID: doc_4\n",
      "Add of existing embedding ID: doc_5\n",
      "Add of existing embedding ID: doc_6\n",
      "Add of existing embedding ID: doc_7\n",
      "Add of existing embedding ID: doc_8\n",
      "Add of existing embedding ID: doc_9\n",
      "Add of existing embedding ID: doc_10\n",
      "Add of existing embedding ID: doc_11\n",
      "Add of existing embedding ID: doc_12\n",
      "Add of existing embedding ID: doc_13\n",
      "Add of existing embedding ID: doc_14\n",
      "Add of existing embedding ID: doc_15\n",
      "Add of existing embedding ID: doc_16\n",
      "Add of existing embedding ID: doc_17\n",
      "Add of existing embedding ID: doc_18\n",
      "Add of existing embedding ID: doc_19\n",
      "Add of existing embedding ID: doc_20\n",
      "Add of existing embedding ID: doc_21\n",
      "Add of existing embedding ID: doc_22\n",
      "Add of existing embedding ID: doc_23\n",
      "Add of existing embedding ID: doc_24\n",
      "Add of existing embedding ID: doc_25\n",
      "Add of existing embedding ID: doc_26\n",
      "Add of existing embedding ID: doc_27\n",
      "Add of existing embedding ID: doc_28\n",
      "Add of existing embedding ID: doc_29\n",
      "Add of existing embedding ID: doc_30\n",
      "Add of existing embedding ID: doc_31\n",
      "Add of existing embedding ID: doc_32\n",
      "Add of existing embedding ID: doc_33\n",
      "Add of existing embedding ID: doc_34\n",
      "Add of existing embedding ID: doc_35\n",
      "Add of existing embedding ID: doc_36\n",
      "Add of existing embedding ID: doc_37\n",
      "Add of existing embedding ID: doc_38\n",
      "Add of existing embedding ID: doc_39\n",
      "Add of existing embedding ID: doc_40\n",
      "Add of existing embedding ID: doc_41\n",
      "Add of existing embedding ID: doc_42\n",
      "Add of existing embedding ID: doc_43\n",
      "Add of existing embedding ID: doc_44\n",
      "Add of existing embedding ID: doc_45\n",
      "Add of existing embedding ID: doc_46\n",
      "Add of existing embedding ID: doc_47\n",
      "Add of existing embedding ID: doc_48\n",
      "Add of existing embedding ID: doc_49\n",
      "Add of existing embedding ID: doc_50\n",
      "Add of existing embedding ID: doc_51\n",
      "Add of existing embedding ID: doc_52\n",
      "Add of existing embedding ID: doc_53\n",
      "Add of existing embedding ID: doc_54\n",
      "Add of existing embedding ID: doc_55\n",
      "Add of existing embedding ID: doc_56\n",
      "Add of existing embedding ID: doc_57\n",
      "Add of existing embedding ID: doc_58\n",
      "Add of existing embedding ID: doc_59\n",
      "Add of existing embedding ID: doc_60\n",
      "Add of existing embedding ID: doc_61\n",
      "Add of existing embedding ID: doc_62\n",
      "Add of existing embedding ID: doc_63\n",
      "Add of existing embedding ID: doc_64\n",
      "Add of existing embedding ID: doc_65\n",
      "Add of existing embedding ID: doc_66\n",
      "Add of existing embedding ID: doc_67\n",
      "Add of existing embedding ID: doc_68\n",
      "Add of existing embedding ID: doc_69\n",
      "Add of existing embedding ID: doc_70\n",
      "Add of existing embedding ID: doc_71\n",
      "Add of existing embedding ID: doc_72\n",
      "Add of existing embedding ID: doc_73\n",
      "Add of existing embedding ID: doc_74\n",
      "Add of existing embedding ID: doc_75\n",
      "Add of existing embedding ID: doc_76\n",
      "Add of existing embedding ID: doc_77\n",
      "Add of existing embedding ID: doc_78\n",
      "Add of existing embedding ID: doc_79\n",
      "Add of existing embedding ID: doc_80\n",
      "Add of existing embedding ID: doc_81\n",
      "Add of existing embedding ID: doc_82\n",
      "Add of existing embedding ID: doc_83\n",
      "Add of existing embedding ID: doc_84\n",
      "Add of existing embedding ID: doc_85\n",
      "Add of existing embedding ID: doc_86\n",
      "Add of existing embedding ID: doc_87\n",
      "Add of existing embedding ID: doc_88\n",
      "Add of existing embedding ID: doc_89\n",
      "Add of existing embedding ID: doc_90\n",
      "Add of existing embedding ID: doc_91\n",
      "Add of existing embedding ID: doc_92\n",
      "Add of existing embedding ID: doc_93\n",
      "Add of existing embedding ID: doc_94\n",
      "Add of existing embedding ID: doc_95\n",
      "Add of existing embedding ID: doc_96\n",
      "Add of existing embedding ID: doc_97\n",
      "Add of existing embedding ID: doc_98\n",
      "Add of existing embedding ID: doc_99\n"
     ]
    },
    {
     "name": "stdout",
     "output_type": "stream",
     "text": [
      "✅ PDF 2개의 데이터가 ChromaDB에 저장되었습니다.\n"
     ]
    }
   ],
   "source": [
    "client = chromadb.PersistentClient(path=\"../chromaDB/pdf_docs\")\n",
    "collection = client.get_or_create_collection(\"squat_documents\")\n",
    "\n",
    "collection.add(\n",
    "    documents=texts,\n",
    "    embeddings=embeddings,\n",
    "    metadatas=metadatas,\n",
    "    ids=ids\n",
    ")\n",
    "\n",
    "print(\"✅ PDF 2개의 데이터가 ChromaDB에 저장되었습니다.\")"
   ]
  },
  {
   "cell_type": "markdown",
   "metadata": {},
   "source": [
    "- retriever"
   ]
  },
  {
   "cell_type": "code",
   "execution_count": null,
   "metadata": {},
   "outputs": [],
   "source": [
    "# 검색기 만들기\n",
    "embedding = HuggingFaceBgeEmbeddings(\n",
    "    model_name=\"sentence-transformers/all-MiniLM-L6-v2\"\n",
    ")\n",
    "\n",
    "vectorstore = Chroma(\n",
    "    collection_name=\"squat_documents\",\n",
    "    persist_directory=\"../chromaDB/pdf_docs\",\n",
    "    embedding_function=embedding\n",
    ")\n",
    "\n",
    "retriever = vectorstore.as_retriever(\n",
    "    search_type=\"similarity\",\n",
    "    search_kawrgs={'k': 3}\n",
    ")"
   ]
  }
 ],
 "metadata": {
  "kernelspec": {
   "display_name": "komi",
   "language": "python",
   "name": "python3"
  },
  "language_info": {
   "codemirror_mode": {
    "name": "ipython",
    "version": 3
   },
   "file_extension": ".py",
   "mimetype": "text/x-python",
   "name": "python",
   "nbconvert_exporter": "python",
   "pygments_lexer": "ipython3",
   "version": "3.11.11"
  }
 },
 "nbformat": 4,
 "nbformat_minor": 2
}
