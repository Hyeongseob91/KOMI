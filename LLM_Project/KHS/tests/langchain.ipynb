{
 "cells": [
  {
   "cell_type": "markdown",
   "metadata": {},
   "source": [
    "# Langchain\n",
    "- pip install langchain_community\n",
    "- pip install langchain_openai\n",
    "- pip install langchain_chroma\n",
    "- pip install pymupdf"
   ]
  },
  {
   "cell_type": "code",
   "execution_count": 1,
   "metadata": {},
   "outputs": [],
   "source": [
    "from langchain_community.document_loaders import PyPDFium2Loader\n",
    "from langchain_text_splitters import RecursiveCharacterTextSplitter\n",
    "from langchain_openai import ChatOpenAI, OpenAIEmbeddings\n",
    "from langchain_chroma import Chroma\n",
    "from langchain_core.prompts import PromptTemplate\n",
    "from langchain_core.runnables import RunnablePassthrough"
   ]
  },
  {
   "cell_type": "code",
   "execution_count": 2,
   "metadata": {},
   "outputs": [
    {
     "data": {
      "text/plain": [
       "'c:\\\\Wanted\\\\projectfiles\\\\KOMI_PJT\\\\LLM_Project\\\\KHS\\\\tests'"
      ]
     },
     "execution_count": 2,
     "metadata": {},
     "output_type": "execute_result"
    }
   ],
   "source": [
    "import os\n",
    "os.getcwd()"
   ]
  },
  {
   "cell_type": "markdown",
   "metadata": {},
   "source": [
    "- pip install unstructured\n",
    "- pip install pdfminer"
   ]
  },
  {
   "cell_type": "code",
   "execution_count": 15,
   "metadata": {},
   "outputs": [
    {
     "data": {
      "text/plain": [
       "'스쿼트\\n1. 개요[편집]\\n웨이트 트레이닝 중 하나로 데드리프트, 벤치 프레스와 더불어 웨이트 트레이닝의 3대 운\\n동 중 하나이다. 하체 운동 시 결코 빼놓을 수 없는 최고의 운동. \\n2. 유래[편집]\\n게오르크 하켄슈미트[3]의 시대부터 지금까지 단 한 순간도 신체 단련에 있어 가장 중요\\n한 운동의 위치에서 내려온 적이 없다. 본 문서에 기록된 것 이외에도 다양한 응용 스쿼\\n트가 존재해서 그 종류만 보아도 위엄이 느껴질 정도. 심지어 병원 유투브에서 올리\\n는 무릎 재활 운동 안내에도 거의 빠지지 않는 단골 수준이다[4]. 호사가들의 경우 스쿼트\\n와 데드리프트 가운데 어느 것이 더 중요하냐를 가지고 싸우는 경우도 있는데, 목적에 따\\n라 병행하는 것이 좋다.[5] 스쿼트는 하체를 튼튼히 만드는 운동이라고 널리 알려져 있지\\n만, 동작을 수행하기 위해 동원되는 근육이 꽤 많아서 거의 전신운동에 가깝다.[6]\\n3. 주의사항과 팁[편집]\\n스쿼트는 제대로 하면 건강과 체력, 육체미를 모두 크게 향상시켜주는 좋은 운동이지만, \\n제대로 하지 않으면 무릎, 허리 등의 관절에 큰 부상을 입힐 수 있으며 평생 후유증이 \\n남을 수도 있다. 평생 쓸 몸을 위해 안전하게 운동하도록 하자. \\n스쿼트는 분명히 프리웨이트 중에서 최고의 운동효과를 낼 수 있는 운동이다. 허나 최고\\n의 프리웨이트답게 생각보다 높은 난도를 자랑하는 운동이다. 일선의 지도자들이나 트레\\n이너들 조차도 깊이있게 들어가면 스쿼트에 관해서 쩔쩔매는 것이 사실이다. 또한 인터\\n넷이나 책으로만 접하거나 제대로 된 교육을 받지 않은 많은 사람들이 잘못된 자세로 스\\n쿼트를 시행하는 경우를 볼 수 있는데, 잘못된 자세로 시행되는 스쿼트는 무릎-허리와 \\n같은 회복불가능의 퇴행성 질환을 유발하며 어깨와 손목에도 심각한 부상을 유발하기도 \\n한다. 정말 완벽히 정확한 자세로 시행할 자신이 없다면 차라리 스쿼트를 하지 않는 것\\n이 더 좋다. 굳이 하겠다면, 먼저 맨몸으로 시작해서 빈봉 순으로 시작하자. 굳이 중량을 \\n올리지 않아도 제대로 한다면 맨몸으로도 엄청난 자극이 올 것이다. \\n스쿼트는 부정할 수 없는 최고의 발달운동이다. 하지만 정확한 자세, 특히 요추말림현상\\n과 같은 세세한 부분을 잡아줄 수 있는 지도자를 만나지 못한다면 차라리 안 하느니만 \\n못하다. 특히 스쿼트는 벤치프레스, 데드리프트보다 일정기간 쉬고 나서 자세를 다시 잡\\n기 어려운 종목이다. 벤치프레스나 데드리프트는 운동을 1~2달을 쉬어도 중량은 떨어져 \\n있을지 몰라도 자세는 무너지지 않는데, 스쿼트는 1주일만 쉬어도 자세가 무너질 수 있\\n고 기존의 중량으로 돌아가는데에도 상대적으로 시간이 더 걸린다. 그러니 좋다는 말만\\n'"
      ]
     },
     "execution_count": 15,
     "metadata": {},
     "output_type": "execute_result"
    }
   ],
   "source": [
    "loader = PyPDFium2Loader(\"../data/squat2.pdf\")\n",
    "docs = loader.load()\n",
    "docs[0].page_content"
   ]
  }
 ],
 "metadata": {
  "kernelspec": {
   "display_name": "komi",
   "language": "python",
   "name": "python3"
  },
  "language_info": {
   "codemirror_mode": {
    "name": "ipython",
    "version": 3
   },
   "file_extension": ".py",
   "mimetype": "text/x-python",
   "name": "python",
   "nbconvert_exporter": "python",
   "pygments_lexer": "ipython3",
   "version": "3.11.11"
  }
 },
 "nbformat": 4,
 "nbformat_minor": 2
}
