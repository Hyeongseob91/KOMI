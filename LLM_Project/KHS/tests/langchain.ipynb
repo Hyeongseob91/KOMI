{
 "cells": [
  {
   "cell_type": "markdown",
   "metadata": {},
   "source": [
    "# Langchain\n",
    "- pip install langchain_community\n",
    "- pip install langchain_openai\n",
    "- pip install langchain_chroma\n",
    "- pip install pymupdf"
   ]
  },
  {
   "cell_type": "code",
   "execution_count": 5,
   "metadata": {},
   "outputs": [],
   "source": [
    "from langchain_community.document_loaders import PyMuPDFLoader\n",
    "from langchain_text_splitters import RecursiveCharacterTextSplitter\n",
    "from langchain_openai import ChatOpenAI, OpenAIEmbeddings\n",
    "from langchain_chroma import Chroma\n",
    "from langchain_core.prompts import PromptTemplate\n",
    "from langchain_core.runnables import RunnablePassthrough"
   ]
  },
  {
   "cell_type": "code",
   "execution_count": 7,
   "metadata": {},
   "outputs": [
    {
     "data": {
      "text/plain": [
       "'c:\\\\Wanted\\\\projectfiles\\\\KOMI_PJT\\\\LLM_Project\\\\KHS\\\\tests'"
      ]
     },
     "execution_count": 7,
     "metadata": {},
     "output_type": "execute_result"
    }
   ],
   "source": [
    "import os\n",
    "os.getcwd()"
   ]
  },
  {
   "cell_type": "code",
   "execution_count": 29,
   "metadata": {},
   "outputs": [
    {
     "name": "stdout",
     "output_type": "stream",
     "text": [
      "97\n"
     ]
    },
    {
     "data": {
      "text/plain": [
       "Document(metadata={'producer': 'Microsoft: Print To PDF', 'creator': '', 'creationdate': '2025-03-24T16:49:15+09:00', 'source': '../data/thesis.pdf', 'file_path': '../data/thesis.pdf', 'total_pages': 97, 'format': 'PDF 1.7', 'title': 'f8163f2c-69b3-4eaa-aff9-2bfe1f9fb019', 'author': '', 'subject': '', 'keywords': '', 'moddate': '2025-03-24T16:49:15+09:00', 'trapped': '', 'modDate': \"D:20250324164915+09'00'\", 'creationDate': \"D:20250324164915+09'00'\", 'page': 96}, page_content='')"
      ]
     },
     "execution_count": 29,
     "metadata": {},
     "output_type": "execute_result"
    }
   ],
   "source": [
    "loader = PyMuPDFLoader(\"../data/thesis.pdf\")\n",
    "docs = loader.load()\n",
    "print(len(docs))\n",
    "docs[-1]"
   ]
  }
 ],
 "metadata": {
  "kernelspec": {
   "display_name": "komi",
   "language": "python",
   "name": "python3"
  },
  "language_info": {
   "codemirror_mode": {
    "name": "ipython",
    "version": 3
   },
   "file_extension": ".py",
   "mimetype": "text/x-python",
   "name": "python",
   "nbconvert_exporter": "python",
   "pygments_lexer": "ipython3",
   "version": "3.11.11"
  }
 },
 "nbformat": 4,
 "nbformat_minor": 2
}
