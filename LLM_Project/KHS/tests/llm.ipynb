{
 "cells": [
  {
   "cell_type": "markdown",
   "metadata": {},
   "source": [
    "# LLM\n",
    "- ollama download and install\n",
    "- pip install ollama\n",
    "- ollama run exaone3.5 (LG AI Research 개발)"
   ]
  },
  {
   "cell_type": "code",
   "execution_count": 12,
   "metadata": {},
   "outputs": [
    {
     "name": "stdout",
     "output_type": "stream",
     "text": [
      "스쿼트 자세를 올바르게 유지하기 위해 가장 중요한 스트레칭들은 다음과 같습니다:\n",
      "\n",
      "1. **하체 스트레칭**:\n",
      "   - **허벅지 스트레칭 (Hamstring Stretch)**: 허벅지 뒷부분인 햄스트링 근육을 스트레칭하여 무릎이 과도하게 앞으로 치우치지 않도록 도와줍니다.\n",
      "   - **허벅지 내측 스트레칭 (Hip Flexor Stretch)**: 허벅지 안쪽 근육을 스트레칭하여 허리와 엉덩이의 불균형을 줄여줍니다. 이는 스쿼트 동작 중 균형을 잡는 데 중요합니다.\n",
      "   - **허벅지 외측 스트레칭 (Glute Stretch)**: 허벅지 바깥쪽 근육을 스트레칭하여 균형 잡힌 하체 움직임을 돕습니다.\n",
      "\n",
      "2. **코어 및 척추 스트레칭**:\n",
      "   - **척추 스트레칭**: 허리와 등 근육을 스트레칭하여 척추의 유연성을 높이고, 스쿼트 동작 중 올바른 자세를 유지하는 데 도움이 됩니다.\n",
      "   - **복부 스트레칭**: 코어 근육을 강화하고 유연성을 향상시켜 척추를 지지하고 균형을 유지하는 데 도움이 됩니다.\n",
      "\n",
      "이러한 스트레칭들을 꾸준히 수행하면 스쿼트 동작 중에 더 안정적이고 효과적인 자세를 유지하는 데 큰 도움이 됩니다. 스트레칭 전에는 항상 준비운동을 해주고, 스트레칭 시 과도한 통증을 느끼지 않는 범위 내에서 진행하는 것이 중요합니다.\n"
     ]
    }
   ],
   "source": [
    "# 모델 불러오기\n",
    "import ollama\n",
    "\n",
    "# 프롬포트 설정\n",
    "prompt = \"\"\"\n",
    "You are a rehabilitation medicine doctor and have a level of fitness knowledge.\n",
    "You have to speak in only Korean.\n",
    "Don't use Chinese characters.\n",
    "\"\"\"\n",
    "\n",
    "# 채팅 응답 설정\n",
    "chat_history = [\n",
    "    {\n",
    "        'system': prompt,\n",
    "        'role': 'user',\n",
    "        'content': '올바른 스쿼트 자세를 위해서 가장 중요한 스트레칭은 무엇일까?',\n",
    "    }\n",
    "]\n",
    "\n",
    "# 응답\n",
    "response = ollama.chat(model='exaone3.5', messages=chat_history)\n",
    "print(response['message']['content'])"
   ]
  }
 ],
 "metadata": {
  "kernelspec": {
   "display_name": "komi",
   "language": "python",
   "name": "python3"
  },
  "language_info": {
   "codemirror_mode": {
    "name": "ipython",
    "version": 3
   },
   "file_extension": ".py",
   "mimetype": "text/x-python",
   "name": "python",
   "nbconvert_exporter": "python",
   "pygments_lexer": "ipython3",
   "version": "3.11.11"
  }
 },
 "nbformat": 4,
 "nbformat_minor": 2
}
